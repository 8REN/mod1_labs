{
 "cells": [
  {
   "cell_type": "code",
   "execution_count": null,
   "metadata": {},
   "outputs": [],
   "source": [
    "import numpy as np\n",
    "import matplotlib.pyplot as plt\n",
    "%matplotlib inline"
   ]
  },
  {
   "cell_type": "code",
   "execution_count": null,
   "metadata": {},
   "outputs": [],
   "source": [
    "# Your code here\n",
    "\n",
    "# Pseudo-code outline\n",
    "\n",
    "# Split the transcript into words\n",
    "words = macbeth.split()\n",
    "# Create a dictionary\n",
    "word_counts = {}\n",
    "# Iterate through the text of Macbeth\n",
    "for word in words:\n",
    "    # Update word counts\n",
    "    word_counts[word] = word_counts.get(word, 0) + 1 #Get previous entry, update by 1\n",
    "# Convert to a list"
   ]
  },
  {
   "cell_type": "code",
   "execution_count": null,
   "metadata": {},
   "outputs": [],
   "source": [
    "# Convert to a list\n",
    "counts = list(word_counts.items())\n",
    "# Sort words by count\n",
    "top_25 = sorted(counts, key = lambda x: x[1], reverse=True)[:25]\n",
    "# Store word counts \n",
    "y = [item[1] for item in top_25]\n",
    "# Create x-axis ticks\n",
    "X = np.arange(len(y))\n",
    "# Create figure object with size = 12x12\n",
    "plt.figure(figsize=(12,12))\n",
    "# Create Bar Graph\n",
    "plt.bar(X , y)\n",
    "# Use words as x-axis tick labels\n",
    "plt.xticks(X, [item[0] for item in top_25]);\n",
    "# Include descriptive titles and labels\n",
    "plt.ylabel('Number of Occurences')\n",
    "plt.xlabel('Word')\n",
    "plt.title('Top 25 Words in Macbeth')"
   ]
  },
  {
   "cell_type": "code",
   "execution_count": null,
   "metadata": {},
   "outputs": [],
   "source": [
    "Text(0.5, 1.0, 'Top 25 Words in Macbeth')"
   ]
  }
 ],
 "metadata": {
  "kernelspec": {
   "display_name": "Python 3",
   "language": "python",
   "name": "python3"
  },
  "language_info": {
   "codemirror_mode": {
    "name": "ipython",
    "version": 3
   },
   "file_extension": ".py",
   "mimetype": "text/x-python",
   "name": "python",
   "nbconvert_exporter": "python",
   "pygments_lexer": "ipython3",
   "version": "3.7.4"
  }
 },
 "nbformat": 4,
 "nbformat_minor": 2
}
