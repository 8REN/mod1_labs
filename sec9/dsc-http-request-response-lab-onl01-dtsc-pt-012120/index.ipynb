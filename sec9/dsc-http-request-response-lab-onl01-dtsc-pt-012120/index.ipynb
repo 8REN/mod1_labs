{
 "cells": [
  {
   "cell_type": "markdown",
   "metadata": {},
   "source": [
    "# HTTP Request/Response Cycle - Lab\n",
    "\n",
    "## Introduction \n",
    "\n",
    "In this lab, we'll make use of the `requests` module commands and properties seen in the previous lesson, to extract information for a web service called **\"Open Notify\"** to access NASA's space data. \n",
    "\n",
    "## Objectives\n",
    "\n",
    "You will be able to:\n",
    "\n",
    "* Explain the HTTP request/response cycle\n",
    "* List the status codes of responses and their meanings\n",
    "* Obtain and interpret status codes from responses\n",
    "* Make HTTP GET and POST requests in python using the `requests` library\n",
    "\n",
    "## Open Notify \n",
    "\n",
    "[Open Notify](http://open-notify.org/)  is an an open source project to provide a simple programming interface for some of NASA’s awesome data. This takes live raw data from NASA's systems and turn them into APIs related to space and spacecraft. We can access the following information from open notify. \n",
    "\n",
    "* Current Location of the International Space Station\n",
    "\n",
    "* Overhead Pass Predictions for the International Space Station\n",
    "\n",
    "* Number of People in Space\n",
    "    \n",
    "### API endpoints\n",
    "\n",
    "Open Notify has several API endpoints. \n",
    ">An endpoint is a server route that is used to retrieve different data from the API. \n",
    "\n",
    "For example, the `/comments` endpoint on the Reddit API might retrieve information about comments, whereas the `/users` endpoint might retrieve data about users. To access them, you would add the endpoint to the base url of the API.\n",
    "\n",
    "For the OpenNotify API, we have following end points \n",
    "\n",
    "1. Current Location of the International Space Station `/iss-now.json`\n",
    "2. Overhead Pass Predictions for the International Space Station `/iss-pass.json`    \n",
    "3. Number of People in Space `/astros.json`\n",
    "\n",
    "The `.json` extension simply tells us that the data is being returned in a JSON format.\n",
    "\n",
    "In this lab, we'll be querying this API to retrieve live data about the International Space Station (ISS). Details on OpenNofity, endpoints, syntax, and the services it offers can be viewed [Here](http://open-notify.org/Open-Notify-API/)\n",
    "\n",
    "![](images/iss.jpg)\n",
    "\n",
    "### Current location of International Space Station\n",
    "\n",
    "The first endpoint we'll look at on Open Notify is the ` iss-now.json` endpoint (current location of international space station). This endpoint gets the current latitude and longitude of the International Space Station.  Perform the following tasks \n",
    "* Make a get request to get the latest position of the international space station from the opennotify api's `iss-now` endpoint at http://api.open-notify.org/iss-now.json\n",
    "* Check the status code of the response\n",
    "* Interpret the returned code"
   ]
  },
  {
   "cell_type": "code",
   "execution_count": 107,
   "metadata": {},
   "outputs": [
    {
     "data": {
      "text/plain": [
       "requests.models.Response"
      ]
     },
     "execution_count": 107,
     "metadata": {},
     "output_type": "execute_result"
    }
   ],
   "source": [
    "import json\n",
    "import requests\n",
    "resp = requests.get('http://api.open-notify.org/iss-now.json')\n",
    "type(resp)"
   ]
  },
  {
   "cell_type": "code",
   "execution_count": 4,
   "metadata": {},
   "outputs": [
    {
     "name": "stdout",
     "output_type": "stream",
     "text": [
      "Response Code: 200\n",
      "Is it OK? True\n"
     ]
    }
   ],
   "source": [
    "print(f'Response Code: {resp.status_code}')\n",
    "print(f'Is it OK? {resp.status_code == requests.codes.ok}')"
   ]
  },
  {
   "cell_type": "markdown",
   "metadata": {},
   "source": [
    "* Print the contents of the response and identify its current location"
   ]
  },
  {
   "cell_type": "code",
   "execution_count": 5,
   "metadata": {},
   "outputs": [
    {
     "name": "stdout",
     "output_type": "stream",
     "text": [
      "{\"message\": \"success\", \"timestamp\": 1582741687, \"iss_position\": {\"latitude\": \"31.5765\", \"longitude\": \"-102.4797\"}}\n"
     ]
    }
   ],
   "source": [
    "print(resp.text)"
   ]
  },
  {
   "cell_type": "code",
   "execution_count": 7,
   "metadata": {},
   "outputs": [
    {
     "data": {
      "text/plain": [
       "{'Server': 'nginx/1.10.3', 'Date': 'Wed, 26 Feb 2020 18:28:07 GMT', 'Content-Type': 'application/json', 'Content-Length': '114', 'Connection': 'keep-alive', 'access-control-allow-origin': '*'}"
      ]
     },
     "metadata": {},
     "output_type": "display_data"
    }
   ],
   "source": [
    "# Interpret your results using the API"
   ]
  },
  {
   "cell_type": "code",
   "execution_count": 21,
   "metadata": {},
   "outputs": [
    {
     "name": "stdout",
     "output_type": "stream",
     "text": [
      "Wed, 26 Feb 2020 18:28:07 GMT\n",
      "nginx/1.10.3\n"
     ]
    }
   ],
   "source": [
    "print(headers['Date'])   \n",
    "print(headers['Server'])\n"
   ]
  },
  {
   "cell_type": "code",
   "execution_count": 99,
   "metadata": {},
   "outputs": [
    {
     "data": {
      "text/plain": [
       "{'Server': 'nginx/1.10.3',\n",
       " 'Date': 'Wed, 26 Feb 2020 18:46:58 GMT',\n",
       " 'Content-Type': 'application/json',\n",
       " 'Content-Length': '114',\n",
       " 'Connection': 'keep-alive',\n",
       " 'access-control-allow-origin': '*'}"
      ]
     },
     "metadata": {},
     "output_type": "display_data"
    }
   ],
   "source": [
    "display(headers)"
   ]
  },
  {
   "cell_type": "code",
   "execution_count": 45,
   "metadata": {},
   "outputs": [
    {
     "name": "stdout",
     "output_type": "stream",
     "text": [
      "{'message': 'success', 'timestamp': 1582742818, 'iss_position': {'latitude': '-23.8641', 'longitude': '-57.6316'}}\n"
     ]
    }
   ],
   "source": [
    "d = json.loads(resp.text)\n",
    "print(d)"
   ]
  },
  {
   "cell_type": "code",
   "execution_count": 46,
   "metadata": {},
   "outputs": [
    {
     "data": {
      "text/plain": [
       "message                                                   success\n",
       "timestamp                                              1582742818\n",
       "iss_position    {'latitude': '-23.8641', 'longitude': '-57.6316'}\n",
       "dtype: object"
      ]
     },
     "execution_count": 46,
     "metadata": {},
     "output_type": "execute_result"
    }
   ],
   "source": [
    "import pandas as pd\n",
    "\n",
    "s  = pd.Series(d)\n",
    "s"
   ]
  },
  {
   "cell_type": "code",
   "execution_count": 38,
   "metadata": {},
   "outputs": [
    {
     "data": {
      "text/plain": [
       "b'{\"message\": \"success\", \"timestamp\": 1582742818, \"iss_position\": {\"latitude\": \"-23.8641\", \"longitude\": \"-57.6316\"}}'"
      ]
     },
     "execution_count": 38,
     "metadata": {},
     "output_type": "execute_result"
    }
   ],
   "source": [
    "resp.content\n",
    "\n"
   ]
  },
  {
   "cell_type": "code",
   "execution_count": 40,
   "metadata": {},
   "outputs": [
    {
     "data": {
      "text/plain": [
       "{'message': 'success',\n",
       " 'timestamp': 1582742818,\n",
       " 'iss_position': {'latitude': '-23.8641', 'longitude': '-57.6316'}}"
      ]
     },
     "execution_count": 40,
     "metadata": {},
     "output_type": "execute_result"
    }
   ],
   "source": [
    "resp.json()"
   ]
  },
  {
   "cell_type": "code",
   "execution_count": 72,
   "metadata": {},
   "outputs": [
    {
     "name": "stdout",
     "output_type": "stream",
     "text": [
      "1582742818\n",
      "-23.8641 -57.6316\n"
     ]
    }
   ],
   "source": [
    "\n",
    "print (d['timestamp'])\n",
    "print (d['iss_position']['latitude'], d['iss_position']['longitude'])"
   ]
  },
  {
   "cell_type": "markdown",
   "metadata": {},
   "source": [
    "### Check the next pass of International space station for a given location\n",
    "\n",
    "Let's repeat the above for the second endpoint `iss-pass.json`. This end point is used to query the next pass of the space station on a given location. Let's just run as above and record your observations."
   ]
  },
  {
   "cell_type": "code",
   "execution_count": 113,
   "metadata": {},
   "outputs": [],
   "source": [
    "parameters = {'lat' :40.71, 'lon' :-74}\n",
    "\n",
    "resp2 = requests.get('http://api.open-notify.org/iss-pass.json', parameters)\n",
    "\n",
    "\n"
   ]
  },
  {
   "cell_type": "code",
   "execution_count": 105,
   "metadata": {},
   "outputs": [],
   "source": [
    "resp3 = requests.get('http://api.open-notify.org/iss-pass.json?lat=40.71&lon=-74')"
   ]
  },
  {
   "cell_type": "code",
   "execution_count": 114,
   "metadata": {},
   "outputs": [
    {
     "name": "stdout",
     "output_type": "stream",
     "text": [
      "Response Code: 200\n",
      "Is it OK? True\n"
     ]
    }
   ],
   "source": [
    "print(f'Response Code: {resp2.status_code}')\n",
    "print(f'Is it OK? {resp2.status_code == requests.codes.ok}')"
   ]
  },
  {
   "cell_type": "code",
   "execution_count": 255,
   "metadata": {},
   "outputs": [
    {
     "data": {
      "text/plain": [
       "{'Server': 'nginx/1.10.3', 'Date': 'Thu, 27 Feb 2020 14:33:06 GMT', 'Content-Type': 'application/json', 'Content-Length': '452', 'Connection': 'keep-alive', 'Via': '1.1 vegur'}"
      ]
     },
     "metadata": {},
     "output_type": "display_data"
    },
    {
     "data": {
      "text/plain": [
       "{'Server': 'nginx/1.10.3',\n",
       " 'Date': 'Thu, 27 Feb 2020 14:33:06 GMT',\n",
       " 'Content-Type': 'application/json',\n",
       " 'Content-Length': '452',\n",
       " 'Connection': 'keep-alive',\n",
       " 'Via': '1.1 vegur'}"
      ]
     },
     "execution_count": 255,
     "metadata": {},
     "output_type": "execute_result"
    }
   ],
   "source": [
    "display(resp2.headers)\n",
    "# Convert to a dicitonary from `requests.structures.CaseInsensitiveDict`\n",
    "headers2 = dict(resp2.headers)\n",
    "headers2"
   ]
  },
  {
   "cell_type": "code",
   "execution_count": 133,
   "metadata": {},
   "outputs": [
    {
     "data": {
      "text/plain": [
       "'{\\n  \"message\": \"success\", \\n  \"request\": {\\n    \"altitude\": 100, \\n    \"datetime\": 1582813986, \\n    \"latitude\": 40.71, \\n    \"longitude\": -74.0, \\n    \"passes\": 5\\n  }, \\n  \"response\": [\\n    {\\n      \"duration\": 152, \\n      \"risetime\": 1582825279\\n    }, \\n    {\\n      \"duration\": 532, \\n      \"risetime\": 1582873721\\n    }, \\n    {\\n      \"duration\": 654, \\n      \"risetime\": 1582879441\\n    }, \\n    {\\n      \"duration\": 600, \\n      \"risetime\": 1582885301\\n    }\\n  ]\\n}\\n'"
      ]
     },
     "execution_count": 133,
     "metadata": {},
     "output_type": "execute_result"
    }
   ],
   "source": [
    "resp2.text"
   ]
  },
  {
   "cell_type": "code",
   "execution_count": 212,
   "metadata": {},
   "outputs": [
    {
     "data": {
      "text/plain": [
       "[{'duration': 152, 'risetime': 1582825279},\n",
       " {'duration': 532, 'risetime': 1582873721},\n",
       " {'duration': 654, 'risetime': 1582879441},\n",
       " {'duration': 600, 'risetime': 1582885301}]"
      ]
     },
     "execution_count": 212,
     "metadata": {},
     "output_type": "execute_result"
    }
   ],
   "source": [
    "\n",
    "e = resp2.json()\n",
    "e\n",
    "\n",
    "f = resp2.json()['response'] \n",
    "f"
   ]
  },
  {
   "cell_type": "code",
   "execution_count": 231,
   "metadata": {},
   "outputs": [
    {
     "data": {
      "text/plain": [
       "[1582825279, 1582873721, 1582879441, 1582885301]"
      ]
     },
     "execution_count": 231,
     "metadata": {},
     "output_type": "execute_result"
    }
   ],
   "source": [
    "timelist = []\n",
    "\n",
    "for item in f:\n",
    "    time = item['risetime']\n",
    "    \n",
    "    timelist.append(time)\n",
    "timelist\n",
    "\n"
   ]
  },
  {
   "cell_type": "code",
   "execution_count": 245,
   "metadata": {},
   "outputs": [],
   "source": [
    "from datetime import datetime"
   ]
  },
  {
   "cell_type": "code",
   "execution_count": 246,
   "metadata": {},
   "outputs": [
    {
     "name": "stdout",
     "output_type": "stream",
     "text": [
      "2020-02-27 12:41:19\n",
      "2020-02-28 02:08:41\n",
      "2020-02-28 03:44:01\n",
      "2020-02-28 05:21:41\n"
     ]
    }
   ],
   "source": [
    "times = []\n",
    "for rt in timelist:\n",
    "    time = datetime.fromtimestamp(rt)\n",
    "    times.append(time)\n",
    "    print(time)\n"
   ]
  },
  {
   "cell_type": "markdown",
   "metadata": {},
   "source": [
    "So clearly there is something wrong as we had a 400 response. This is how you should always test your responses for validity. \n",
    "\n",
    "If we look at the documentation for the Open Notify API, we see that the ISS Pass endpoint requires two parameters.\n",
    "\n",
    "> The ISS Pass endpoint returns when the ISS will next pass over a given location on earth. In order to compute this, we need to pass the coordinates of the location to the API. We do this by passing two parameters -- latitude and longitude.\n",
    "\n",
    "We can do this by adding an optional keyword argument, `params`, to our request. In this case, there are two parameters we need to pass:\n",
    "\n",
    "* `lat` -- The latitude of the location we want.\n",
    "* `lon` -- The longitude of the location we want.\n",
    "\n",
    "Perform the following tasks :\n",
    "* Set parameters to reflect the lat and long of New York  (40.71, -74)\n",
    "* Send a get request to Open Notify passing in the lat long parameters as k:v pairs in a dictionary\n",
    "* Check the status code and interpret\n",
    "* Print the header information and the returned content"
   ]
  },
  {
   "cell_type": "markdown",
   "metadata": {},
   "source": [
    "### Finding the number of people in space\n",
    "\n",
    "Open Notify has one more API endpoint, `/astros.json`. It tells you how many people are currently in space. The format of the responses can be studied [HERE](http://open-notify.org/Open-Notify-API/People-In-Space/).\n",
    "\n",
    "Read the above documentation and perform the following tasks:\n",
    "\n",
    "* Get the response from astros.json endpoint\n",
    "* Count how many people are currently in space\n",
    "* List the names of people currently in space."
   ]
  },
  {
   "cell_type": "code",
   "execution_count": 248,
   "metadata": {},
   "outputs": [
    {
     "name": "stdout",
     "output_type": "stream",
     "text": [
      "Response Code: 200\n",
      "Is it OK? True\n"
     ]
    }
   ],
   "source": [
    "resp4 = requests.get('http://api.open-notify.org/astros.json')\n",
    "print(f'Response Code: {resp2.status_code}')\n",
    "print(f'Is it OK? {resp2.status_code == requests.codes.ok}')"
   ]
  },
  {
   "cell_type": "code",
   "execution_count": 254,
   "metadata": {},
   "outputs": [
    {
     "data": {
      "text/plain": [
       "{'Server': 'nginx/1.10.3', 'Date': 'Thu, 27 Feb 2020 15:39:24 GMT', 'Content-Type': 'application/json', 'Content-Length': '177', 'Connection': 'keep-alive', 'access-control-allow-origin': '*'}"
      ]
     },
     "metadata": {},
     "output_type": "display_data"
    },
    {
     "data": {
      "text/plain": [
       "[{'craft': 'ISS', 'name': 'Andrew Morgan'},\n",
       " {'craft': 'ISS', 'name': 'Oleg Skripochka'},\n",
       " {'craft': 'ISS', 'name': 'Jessica Meir'}]"
      ]
     },
     "execution_count": 254,
     "metadata": {},
     "output_type": "execute_result"
    }
   ],
   "source": [
    "display(resp4.headers)\n",
    "# Convert to a dicitonary from `requests.structures.CaseInsensitiveDict`\n",
    "headers4 = dict(resp4.headers)\n",
    "\n",
    "resp4.text\n",
    "\n",
    "people = resp4.json()['people']\n",
    "people"
   ]
  },
  {
   "cell_type": "markdown",
   "metadata": {},
   "source": [
    "## Summary \n",
    "\n",
    "In this lesson, we saw how we can use request and response methods to query an Open API. We also saw how to look at the contents returned with the API calls and how to parse them. Next, we'll look at connecting to APIs which are not OPEN, i.e. we would need to pass in some authentication information and filter the results. "
   ]
  }
 ],
 "metadata": {
  "kernelspec": {
   "display_name": "Python 3",
   "language": "python",
   "name": "python3"
  },
  "language_info": {
   "codemirror_mode": {
    "name": "ipython",
    "version": 3
   },
   "file_extension": ".py",
   "mimetype": "text/x-python",
   "name": "python",
   "nbconvert_exporter": "python",
   "pygments_lexer": "ipython3",
   "version": "3.6.9"
  },
  "toc": {
   "base_numbering": 1,
   "nav_menu": {},
   "number_sections": true,
   "sideBar": true,
   "skip_h1_title": false,
   "title_cell": "Table of Contents",
   "title_sidebar": "Contents",
   "toc_cell": false,
   "toc_position": {},
   "toc_section_display": true,
   "toc_window_display": false
  }
 },
 "nbformat": 4,
 "nbformat_minor": 2
}
